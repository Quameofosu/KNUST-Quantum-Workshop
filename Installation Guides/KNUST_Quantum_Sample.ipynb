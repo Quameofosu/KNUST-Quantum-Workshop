{
 "cells": [
  {
   "cell_type": "markdown",
   "id": "a20a4fdf-4a1d-4ce6-8df6-528d77b73d38",
   "metadata": {
    "id": "a20a4fdf-4a1d-4ce6-8df6-528d77b73d38"
   },
   "source": [
    "<center>\n",
    "<div style=\"margin: 50px\">\n",
    "\n",
    "<h1>KNUST Quantum Computing Workshop</h1>\n",
    "<h2>Introduction to Quantum Computing</h2>\n",
    "<h3>IBM Quantum Experience Guide</h3>\n",
    "<h3>Sample Lab notebook</h3>\n",
    "\n",
    "</div>\n",
    "</center>\n",
    "\n",
    "---"
   ]
  },
  {
   "cell_type": "markdown",
   "id": "LTwpcNqXlp_E",
   "metadata": {
    "id": "LTwpcNqXlp_E",
    "jp-MarkdownHeadingCollapsed": true,
    "tags": []
   },
   "source": [
    "## **PART #0: Practice using Notebooks in IBM Quantum Experience (IQX)**"
   ]
  },
  {
   "cell_type": "markdown",
   "id": "pTw9c31n3f4T",
   "metadata": {
    "id": "pTw9c31n3f4T"
   },
   "source": [
    "\n",
    "1. Create a `Code` Cell below by pressing the **+** button above and making sure the \"Code\" option is selected. Practice running the `Code` Cell. "
   ]
  },
  {
   "cell_type": "code",
   "execution_count": 1,
   "id": "MxAs6KtlM7D-",
   "metadata": {
    "id": "MxAs6KtlM7D-"
   },
   "outputs": [
    {
     "name": "stdout",
     "output_type": "stream",
     "text": [
      "Hello World\n"
     ]
    }
   ],
   "source": [
    "print(\"Hello World\")"
   ]
  },
  {
   "cell_type": "code",
   "execution_count": null,
   "id": "f494ce8f-8dad-439b-a22e-d2657a563033",
   "metadata": {},
   "outputs": [],
   "source": []
  },
  {
   "cell_type": "markdown",
   "id": "sdPvAZyC2roU",
   "metadata": {
    "id": "sdPvAZyC2roU"
   },
   "source": [
    "2. Create a *Text* Cell below by pressing the **+** button above and selecting the \"Markdown\" option. Write some text in it and run the *Text* Cell."
   ]
  },
  {
   "cell_type": "markdown",
   "id": "ktArFy2KnP2n",
   "metadata": {
    "id": "ktArFy2KnP2n"
   },
   "source": [
    "Hello"
   ]
  },
  {
   "cell_type": "markdown",
   "id": "wLkkxdWm3ngt",
   "metadata": {
    "id": "wLkkxdWm3ngt"
   },
   "source": [
    "3. Practice renaming the notebook by right clicking the current name, clicking \"Rename Notebook...\", and adding your first name to the beginning. **Be careful** not to click \"Delete Notebook\" right beneath this!"
   ]
  },
  {
   "cell_type": "markdown",
   "id": "e71e7df3-b663-4bd6-b79c-d1a3a488598c",
   "metadata": {
    "id": "e71e7df3-b663-4bd6-b79c-d1a3a488598c"
   },
   "source": [
    "---\n",
    "### Back To Lecture\n",
    "---"
   ]
  },
  {
   "cell_type": "markdown",
   "id": "607b606f-f345-4058-8381-0d07509bcd4a",
   "metadata": {
    "id": "607b606f-f345-4058-8381-0d07509bcd4a",
    "jp-MarkdownHeadingCollapsed": true,
    "tags": []
   },
   "source": [
    "## **PART #1: The Print Function**"
   ]
  },
  {
   "cell_type": "markdown",
   "id": "593391d5-e034-4850-bea0-8c1f93d90ea4",
   "metadata": {
    "id": "593391d5-e034-4850-bea0-8c1f93d90ea4",
    "tags": []
   },
   "source": [
    "### Practice Together #1 ###\n",
    "\n",
    "Print the text \"Hello Quantum World!\""
   ]
  },
  {
   "cell_type": "code",
   "execution_count": 2,
   "id": "0979f693-5ed9-49b6-83f1-44f53403b04f",
   "metadata": {},
   "outputs": [
    {
     "name": "stdout",
     "output_type": "stream",
     "text": [
      "Hello Quantum World!\n"
     ]
    }
   ],
   "source": [
    "print(\"Hello Quantum World!\")"
   ]
  },
  {
   "cell_type": "code",
   "execution_count": null,
   "id": "39e61420-9aca-4513-8958-6e14bae33255",
   "metadata": {
    "id": "39e61420-9aca-4513-8958-6e14bae33255"
   },
   "outputs": [],
   "source": []
  },
  {
   "cell_type": "code",
   "execution_count": null,
   "id": "NCd-86jjmW1Q",
   "metadata": {
    "id": "NCd-86jjmW1Q"
   },
   "outputs": [],
   "source": []
  },
  {
   "cell_type": "markdown",
   "id": "0d33359f-18fa-4eae-81b6-d39fa9fed46b",
   "metadata": {
    "id": "0d33359f-18fa-4eae-81b6-d39fa9fed46b",
    "tags": []
   },
   "source": [
    "### Practice Together #2 ###\n",
    "\n",
    "Print the text \"Hello Quantum World!\" and \"Nice to meet you and not meet you\" using two separate print statements."
   ]
  },
  {
   "cell_type": "code",
   "execution_count": 3,
   "id": "34859344-64b5-461b-b440-570f1c6e0ffe",
   "metadata": {
    "id": "34859344-64b5-461b-b440-570f1c6e0ffe",
    "tags": []
   },
   "outputs": [
    {
     "name": "stdout",
     "output_type": "stream",
     "text": [
      "Hello Quantum World!\n",
      "Nice to meet you and not meet you\n"
     ]
    }
   ],
   "source": [
    "print(\"Hello Quantum World!\")\n",
    "print(\"Nice to meet you and not meet you\")"
   ]
  },
  {
   "cell_type": "markdown",
   "id": "f54acb71-ed76-4469-bd22-b084c96085af",
   "metadata": {
    "id": "f54acb71-ed76-4469-bd22-b084c96085af",
    "tags": []
   },
   "source": [
    "### Exercise #1.1 ###\n",
    "\n",
    "**Problem**: Print your age"
   ]
  },
  {
   "cell_type": "code",
   "execution_count": 2,
   "id": "183d1710-a6f1-48d1-bb89-1745f7bf331d",
   "metadata": {
    "id": "183d1710-a6f1-48d1-bb89-1745f7bf331d"
   },
   "outputs": [
    {
     "name": "stdout",
     "output_type": "stream",
     "text": [
      "My age is: 20 years\n"
     ]
    }
   ],
   "source": [
    "print(\"My age is:\",20, \"years\")"
   ]
  },
  {
   "cell_type": "markdown",
   "id": "f202c9d1-de9a-480b-9880-c1bfbd64efc0",
   "metadata": {
    "id": "f202c9d1-de9a-480b-9880-c1bfbd64efc0",
    "tags": []
   },
   "source": [
    "### Exercise #1.2 ###\n",
    "\n",
    "**Problem**: Print your favorite hobby and favorite tv show on two separate lines"
   ]
  },
  {
   "cell_type": "code",
   "execution_count": null,
   "id": "b596caa6-3905-4295-b23e-0d6b8fc9160a",
   "metadata": {
    "id": "b596caa6-3905-4295-b23e-0d6b8fc9160a"
   },
   "outputs": [],
   "source": []
  },
  {
   "cell_type": "markdown",
   "id": "da22eb43-f881-41f4-acf1-b5128e73cda9",
   "metadata": {
    "id": "da22eb43-f881-41f4-acf1-b5128e73cda9"
   },
   "source": [
    "---\n",
    "### Back To Lecture\n",
    "---"
   ]
  },
  {
   "cell_type": "markdown",
   "id": "b85b8461-da01-4945-bad3-5ff461ea388f",
   "metadata": {
    "id": "b85b8461-da01-4945-bad3-5ff461ea388f",
    "jp-MarkdownHeadingCollapsed": true,
    "tags": []
   },
   "source": [
    "## **PART #2: Variables and Data Types**"
   ]
  },
  {
   "cell_type": "markdown",
   "id": "5e963b94-23d7-4e42-a5fe-b1f7aff074f4",
   "metadata": {
    "id": "5e963b94-23d7-4e42-a5fe-b1f7aff074f4",
    "tags": []
   },
   "source": [
    "### Practice Together #3 ###\n",
    "\n",
    "1. Create a variable called `course` and assign the name Introduction to Quantum Computing to it."
   ]
  },
  {
   "cell_type": "code",
   "execution_count": null,
   "id": "a128d0cb-c57e-499a-b197-0f7c21851b63",
   "metadata": {},
   "outputs": [],
   "source": []
  },
  {
   "cell_type": "markdown",
   "id": "6e942de3-3a2d-4c47-b146-b9534829531b",
   "metadata": {
    "id": "6e942de3-3a2d-4c47-b146-b9534829531b"
   },
   "source": [
    "2. Create a variable called `age` and assign your age to it. Then print this variable out."
   ]
  },
  {
   "cell_type": "code",
   "execution_count": null,
   "id": "e417983b-ab72-4bd8-ba2b-95122b98ac48",
   "metadata": {},
   "outputs": [],
   "source": []
  },
  {
   "cell_type": "markdown",
   "id": "ce15b020-e2cd-4a5c-9277-8bd960ea60a3",
   "metadata": {
    "id": "ce15b020-e2cd-4a5c-9277-8bd960ea60a3"
   },
   "source": [
    "### Exercise #2.1 ###\n",
    "\n",
    "**Problem**: Create a variable named `my_school` and assign it to the school you currently attend or have previously attended. Print that variable."
   ]
  },
  {
   "cell_type": "code",
   "execution_count": 5,
   "id": "Kvdd3P1ySTtq",
   "metadata": {
    "id": "Kvdd3P1ySTtq"
   },
   "outputs": [
    {
     "name": "stdout",
     "output_type": "stream",
     "text": [
      "Kwame Nkrumah University of Science and Technology\n"
     ]
    }
   ],
   "source": [
    "my_school = \"Kwame Nkrumah University of Science and Technology\"\n",
    "print(my_school)"
   ]
  },
  {
   "cell_type": "markdown",
   "id": "5a3ffd4e-9764-4817-af63-97af6c571fac",
   "metadata": {
    "id": "5a3ffd4e-9764-4817-af63-97af6c571fac"
   },
   "source": [
    "### Exercise #2.2 ###\n",
    "\n",
    "**Problem**: Create and name a variable with your favorite number as an integer. Print that variable."
   ]
  },
  {
   "cell_type": "code",
   "execution_count": null,
   "id": "6fc68ad1-38a3-4f94-8ac4-7f72e5a388eb",
   "metadata": {},
   "outputs": [],
   "source": [
    "fav_number = 7\n",
    "print(fav_number)"
   ]
  },
  {
   "cell_type": "code",
   "execution_count": 13,
   "id": "0991307b-9699-4b84-99c3-bd0879a86d70",
   "metadata": {},
   "outputs": [],
   "source": [
    "VAR5 = 8"
   ]
  },
  {
   "cell_type": "code",
   "execution_count": 15,
   "id": "5635d377-5a5e-466b-aa8c-eb78019c2084",
   "metadata": {},
   "outputs": [],
   "source": [
    "first_last_name = \"peter shor\""
   ]
  },
  {
   "cell_type": "code",
   "execution_count": null,
   "id": "6680b23f-5ed0-4dc9-a4ad-029841c7fed0",
   "metadata": {},
   "outputs": [],
   "source": [
    "Hello!World = 0.283"
   ]
  },
  {
   "cell_type": "markdown",
   "id": "ca347eb5-a1d0-44da-bc69-6822fd606399",
   "metadata": {
    "id": "ca347eb5-a1d0-44da-bc69-6822fd606399"
   },
   "source": [
    "### Exercise #2.3\n",
    "\n",
    "---\n",
    "\n",
    "**Problem:** Look through the given declarations. Which ones are incorrect?\n",
    "\n",
    "```\n",
    "a.  Var1 = 7\n",
    "b.  VAR5 = 8 \n",
    "c.  2var = 92\n",
    "d.  first_last_name = \"peter shor\"\n",
    "e.  Hello!World = 0.283 \n",
    "f.  variable24 = \"my favorite food is\"\n",
    "g.  str = \"string\"\n",
    "```"
   ]
  },
  {
   "cell_type": "markdown",
   "id": "44a2b35d-55c3-4929-b942-f964806459d2",
   "metadata": {
    "id": "44a2b35d-55c3-4929-b942-f964806459d2"
   },
   "source": [
    "---\n",
    "### Back To Lecture\n",
    "---"
   ]
  },
  {
   "cell_type": "markdown",
   "id": "fe35ccd4-922b-421d-97da-c9925929d366",
   "metadata": {
    "id": "fe35ccd4-922b-421d-97da-c9925929d366"
   },
   "source": [
    "### Exercise #2.4 ###\n",
    "\n",
    "**Problem**: Create a variable called `my_name` and assign your name to it. Using this variable, print the sentence, \"My name is [YOUR NAME]\""
   ]
  },
  {
   "cell_type": "code",
   "execution_count": null,
   "id": "701990b3-b5f1-4454-96cb-4c925d989d1e",
   "metadata": {
    "id": "701990b3-b5f1-4454-96cb-4c925d989d1e"
   },
   "outputs": [],
   "source": []
  },
  {
   "cell_type": "markdown",
   "id": "6522ed2f-3f92-4010-9034-569e96b7ffd6",
   "metadata": {
    "id": "6522ed2f-3f92-4010-9034-569e96b7ffd6"
   },
   "source": [
    "### Exercise #2.5 ###\n",
    "\n",
    "**Problem**: Create a variable called `class_size` and store the value 10 in it. Using this variable, print the sentence “Size of class: 10”"
   ]
  },
  {
   "cell_type": "code",
   "execution_count": null,
   "id": "fe84436b-dced-47b6-bf17-8b66d62c58d9",
   "metadata": {
    "id": "fe84436b-dced-47b6-bf17-8b66d62c58d9"
   },
   "outputs": [],
   "source": []
  },
  {
   "cell_type": "markdown",
   "id": "73440375-b15c-4657-8520-6e48f3608fe5",
   "metadata": {
    "id": "73440375-b15c-4657-8520-6e48f3608fe5"
   },
   "source": [
    "### Exercise #2.6 ###\n",
    "\n",
    "**Problem**: Copy and run the code below. Fix what is wrong with it. \n",
    "\n",
    "`print(“My favorite number is” + 8)`"
   ]
  },
  {
   "cell_type": "code",
   "execution_count": null,
   "id": "e3e415ff-bfdc-43d3-a5c1-f87e152d2bf2",
   "metadata": {
    "id": "e3e415ff-bfdc-43d3-a5c1-f87e152d2bf2"
   },
   "outputs": [],
   "source": []
  },
  {
   "cell_type": "markdown",
   "id": "2ffd1868-528b-497c-9f2f-4f34e3a581a3",
   "metadata": {
    "id": "2ffd1868-528b-497c-9f2f-4f34e3a581a3"
   },
   "source": [
    "### Exercise #2.7 ###\n",
    "\n",
    "**Problem**: Print the following sentence using a variable called `state`:\n",
    "“I am from [state].”"
   ]
  },
  {
   "cell_type": "code",
   "execution_count": null,
   "id": "70d1b8a1-1679-481b-8160-2d732b196f80",
   "metadata": {
    "id": "70d1b8a1-1679-481b-8160-2d732b196f80"
   },
   "outputs": [],
   "source": []
  },
  {
   "cell_type": "markdown",
   "id": "44456e78-80d1-4b2a-aef3-27c6545d1491",
   "metadata": {
    "id": "44456e78-80d1-4b2a-aef3-27c6545d1491",
    "jp-MarkdownHeadingCollapsed": true,
    "tags": []
   },
   "source": [
    "---\n",
    "### Back To Lecture\n",
    "---"
   ]
  },
  {
   "cell_type": "markdown",
   "id": "64b17872-c971-4b6c-a604-e8e0522eeffb",
   "metadata": {
    "id": "64b17872-c971-4b6c-a604-e8e0522eeffb",
    "jp-MarkdownHeadingCollapsed": true,
    "tags": []
   },
   "source": [
    "## **PART #3: Arithmetic Operators**"
   ]
  },
  {
   "cell_type": "markdown",
   "id": "f05834df-b6df-4b61-bada-127a86d8da7e",
   "metadata": {
    "id": "f05834df-b6df-4b61-bada-127a86d8da7e"
   },
   "source": [
    "### Exercise 3.1 ###\n",
    "\n",
    "**Problem**: Print `3 + 2` and `3.0 + 2`. Note any difference in the type of output."
   ]
  },
  {
   "cell_type": "code",
   "execution_count": null,
   "id": "155ad690-c9e3-4f01-af68-112edc3d3595",
   "metadata": {},
   "outputs": [],
   "source": []
  },
  {
   "cell_type": "code",
   "execution_count": null,
   "id": "adf96501-62eb-457e-9e45-9eb6b7c640f2",
   "metadata": {},
   "outputs": [],
   "source": []
  },
  {
   "cell_type": "markdown",
   "id": "1319f79e-1e12-477f-9e6e-08d4abd7e1cc",
   "metadata": {
    "id": "1319f79e-1e12-477f-9e6e-08d4abd7e1cc"
   },
   "source": [
    "### Exercise 3.2 ###\n",
    "\n",
    "**Problem**: Print `3 * 2` and `3 / 2`. Note any difference in the type of output."
   ]
  },
  {
   "cell_type": "code",
   "execution_count": null,
   "id": "3820f555-409c-485a-a5dc-fc73f00d565c",
   "metadata": {},
   "outputs": [],
   "source": []
  },
  {
   "cell_type": "code",
   "execution_count": null,
   "id": "c29d601f-1991-40f3-a977-41e82bd6fb08",
   "metadata": {},
   "outputs": [],
   "source": []
  },
  {
   "cell_type": "markdown",
   "id": "4f201e76-7c41-41a1-bbb4-f1e64664afee",
   "metadata": {
    "id": "4f201e76-7c41-41a1-bbb4-f1e64664afee"
   },
   "source": [
    "### Exercise 3.3 ###\n",
    "\n",
    "**Problem**: Set a variable `x = 3`. Then print the result of `x + 5`. "
   ]
  },
  {
   "cell_type": "code",
   "execution_count": null,
   "id": "c6df1732-80ef-41b7-921e-ae0075c17623",
   "metadata": {},
   "outputs": [],
   "source": []
  },
  {
   "cell_type": "markdown",
   "id": "573d1196-ce92-4177-a3e3-df13b92e5479",
   "metadata": {
    "id": "573d1196-ce92-4177-a3e3-df13b92e5479"
   },
   "source": [
    "### Exercise 3.4 ###\n",
    "\n",
    "**Problem**: You have 2 bananas and 5 apples. How many fruits do you have in total? Create variables called num_bananas and num_apples to store these values. Then print the sentence “The number of fruits is [NUMBER OF FRUITS]”, where NUMBER OF FRUITS is the total."
   ]
  },
  {
   "cell_type": "code",
   "execution_count": 28,
   "id": "bc8052c1-09ab-488d-bc02-bdb520d66432",
   "metadata": {
    "id": "bc8052c1-09ab-488d-bc02-bdb520d66432"
   },
   "outputs": [
    {
     "name": "stdout",
     "output_type": "stream",
     "text": [
      "The number of fruits is 7\n"
     ]
    }
   ],
   "source": [
    "num_bananas = 2\n",
    "num_apples = 5\n",
    "total = num_bananas + num_apples\n",
    "print(\"The number of fruits is\", total)"
   ]
  },
  {
   "cell_type": "markdown",
   "id": "89d9a4dc-961b-4601-8500-71238e089704",
   "metadata": {
    "id": "89d9a4dc-961b-4601-8500-71238e089704"
   },
   "source": [
    "---\n",
    "### Back To Lecture\n",
    "---"
   ]
  },
  {
   "cell_type": "markdown",
   "id": "4gsfWG59NIdC",
   "metadata": {
    "id": "4gsfWG59NIdC"
   },
   "source": [
    "---\n",
    "© KNUST Quantum Computing Workshop"
   ]
  }
 ],
 "metadata": {
  "colab": {
   "provenance": []
  },
  "kernelspec": {
   "display_name": "Python 3 (ipykernel)",
   "language": "python",
   "name": "python3"
  },
  "language_info": {
   "codemirror_mode": {
    "name": "ipython",
    "version": 3
   },
   "file_extension": ".py",
   "mimetype": "text/x-python",
   "name": "python",
   "nbconvert_exporter": "python",
   "pygments_lexer": "ipython3",
   "version": "3.10.8"
  },
  "widgets": {
   "application/vnd.jupyter.widget-state+json": {
    "state": {},
    "version_major": 2,
    "version_minor": 0
   }
  }
 },
 "nbformat": 4,
 "nbformat_minor": 5
}
